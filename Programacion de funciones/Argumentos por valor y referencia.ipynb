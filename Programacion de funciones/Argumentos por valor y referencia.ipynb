{
 "cells": [
  {
   "cell_type": "markdown",
   "metadata": {},
   "source": [
    "# Pasar valores desde una variable"
   ]
  },
  {
   "cell_type": "code",
   "execution_count": 5,
   "metadata": {},
   "outputs": [
    {
     "name": "stdout",
     "output_type": "stream",
     "text": [
      "2\n",
      "20\n"
     ]
    }
   ],
   "source": [
    "def doblar_valor(numero):\n",
    "    numero*2\n",
    "\n",
    "variable = 2\n",
    "doblar_valor(2)\n",
    "print(variable)\n",
    "\n",
    "# como se ve en este el valor no se transforma correctamente, para esto podemos hacer un return\n",
    "\n",
    "def doblar_valor2(numero):\n",
    "    return numero*2\n",
    "\n",
    "variable = 10\n",
    "variable = doblar_valor2(variable)\n",
    "print(variable)"
   ]
  },
  {
   "cell_type": "code",
   "execution_count": 3,
   "metadata": {},
   "outputs": [
    {
     "data": {
      "text/plain": [
       "[20, 40, 100]"
      ]
     },
     "execution_count": 3,
     "metadata": {},
     "output_type": "execute_result"
    }
   ],
   "source": [
    "def doblar_valores(numeros):\n",
    "    for i,item in enumerate(numeros):\n",
    "        numeros[i] *=2\n",
    "        \n",
    "arrayadoblar = [10,20,50]\n",
    "doblar_valores(arrayadoblar)\n",
    "arrayadoblar"
   ]
  }
 ],
 "metadata": {
  "kernelspec": {
   "display_name": "Python 3",
   "language": "python",
   "name": "python3"
  },
  "language_info": {
   "codemirror_mode": {
    "name": "ipython",
    "version": 3
   },
   "file_extension": ".py",
   "mimetype": "text/x-python",
   "name": "python",
   "nbconvert_exporter": "python",
   "pygments_lexer": "ipython3",
   "version": "3.7.3"
  }
 },
 "nbformat": 4,
 "nbformat_minor": 2
}
