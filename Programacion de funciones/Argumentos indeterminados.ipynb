{
 "cells": [
  {
   "cell_type": "markdown",
   "metadata": {},
   "source": [
    "# Si se quiere mandar un numero indeterminado de valores por argumentos"
   ]
  },
  {
   "cell_type": "code",
   "execution_count": 4,
   "metadata": {},
   "outputs": [
    {
     "name": "stdout",
     "output_type": "stream",
     "text": [
      "5\n",
      "hola\n",
      "[1, 2, 3, 4, 5]\n",
      "\n",
      "{'a': 5, 'b': 'hola', 'c': [1, 2, 3, 4, 5]}\n"
     ]
    }
   ],
   "source": [
    "#pasando valoresm, pero retorna una tupla, osea valores tal cual no se pueden cambiar pero se pueden jugar con ellos\n",
    "\n",
    "def indeterminados_valores(*args):\n",
    "    for arg in args:\n",
    "        print(arg)\n",
    "        \n",
    "indeterminados_valores(5,\"hola\",[1,2,3,4,5])\n",
    "\n",
    "print(\"\")\n",
    "\n",
    "#En cambio tambien podemos cambiarlo por un diccionario, este tendria el key workds (kw) de los argumentos (args)\n",
    "\n",
    "def indeterminados_nombres(**kwargs):\n",
    "    print(kwargs)\n",
    "    \n",
    "indeterminados_nombres(a=5,b=\"hola\",c=[1,2,3,4,5])\n"
   ]
  },
  {
   "cell_type": "markdown",
   "metadata": {},
   "source": [
    "# Se pueden combinar las 2 para crear una superfuncion"
   ]
  },
  {
   "cell_type": "code",
   "execution_count": 5,
   "metadata": {},
   "outputs": [
    {
     "name": "stdout",
     "output_type": "stream",
     "text": [
      "15\n",
      "cristobal salinas \n"
     ]
    }
   ],
   "source": [
    "def super_funcion(*args,**kwargs):\n",
    "    t = 0\n",
    "    for arg in args:\n",
    "        t +=arg\n",
    "    print(t)   \n",
    "    persona = \"\"\n",
    "    for kw in kwargs:\n",
    "        persona += kwargs[kw]+ \" \"\n",
    "    print(persona)\n",
    "    \n",
    "super_funcion(1,2,3,4,5,nombre=\"cristobal\",apellido=\"salinas\")"
   ]
  },
  {
   "cell_type": "code",
   "execution_count": null,
   "metadata": {},
   "outputs": [],
   "source": []
  }
 ],
 "metadata": {
  "kernelspec": {
   "display_name": "Python 3",
   "language": "python",
   "name": "python3"
  },
  "language_info": {
   "codemirror_mode": {
    "name": "ipython",
    "version": 3
   },
   "file_extension": ".py",
   "mimetype": "text/x-python",
   "name": "python",
   "nbconvert_exporter": "python",
   "pygments_lexer": "ipython3",
   "version": "3.7.3"
  }
 },
 "nbformat": 4,
 "nbformat_minor": 2
}
