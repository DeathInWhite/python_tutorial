{
 "cells": [
  {
   "cell_type": "code",
   "execution_count": 3,
   "metadata": {},
   "outputs": [],
   "source": [
    "#Clase padre\n",
    "class Producto:\n",
    "    def __init__(self,referencia,nombre,pvp,descripcion):\n",
    "        self.referencia = referencia\n",
    "        self.nombre = nombre\n",
    "        self.pvp = pvp        \n",
    "        self.descripcion = descripcion\n",
    "\n",
    "        \n",
    "    def __str__(self):\n",
    "        return \"\"\"\\\n",
    "        REFERENCIA\\t{}\n",
    "        NOMBRE\\t\\t{}\n",
    "        PVP\\t\\t{}\n",
    "        DESCRIPCION\\t{}\n",
    "        \"\"\".format(self.referencia,self.nombre,self.pvp,self.descripcion)\n",
    "    \n",
    "\n",
    "#Clases Hijos\n",
    "class Adorno(Producto):\n",
    "    pass\n",
    "\n",
    "class Alimento(Producto):\n",
    "    productor = \"\"\n",
    "    distribuidor =\"\"\n",
    "    \n",
    "    def __str__(self):\n",
    "        return \"\"\"\\\n",
    "        REFERENCIA\\t{}\n",
    "        NOMBRE\\t\\t{}\n",
    "        PVP\\t\\t{}\n",
    "        DESCRIPCION\\t\\t{}\n",
    "        PRODUCTOR\\t\\t{}\n",
    "        DISTRIBUIDOR\\t{}\n",
    "        \"\"\".format(self.referencia,self.nombre,self.pvp,self.descripcion,self.productor,self.distribuidor)\n",
    "    \n",
    "class Libro(Producto):\n",
    "    isbn = \"\"\n",
    "    autor =\"\"\n",
    "    \n",
    "    def __str__(self):\n",
    "        return \"\"\"\\\n",
    "        REFERENCIA\\t{}\n",
    "        NOMBRE\\t\\t{}\n",
    "        PVP\\t\\t{}\n",
    "        DESCRIPCION\\t\\t{}\n",
    "        ISBN\\t\\t{}\n",
    "        AUTOR\\t{}\n",
    "        \"\"\".format(self.referencia,self.nombre,self.pvp,self.descripcion,self.isbn,self.autor)"
   ]
  },
  {
   "cell_type": "code",
   "execution_count": 7,
   "metadata": {},
   "outputs": [],
   "source": [
    "ad = Adorno(2034,'Vaso',15,'Vaso de porcelana')\n",
    "\n",
    "al = Alimento(2035,'Botella de aceite',5,'250 ML')\n",
    "al.productor = \"Productor\"\n",
    "al.distribuidor = \"Distribuidor\"\n",
    "\n",
    "li = Libro(2036,'Cocina mediterranea',9,'Recetas')\n",
    "li.isbn = \"isbn\"\n",
    "li.autor = \"autor\""
   ]
  },
  {
   "cell_type": "code",
   "execution_count": 9,
   "metadata": {},
   "outputs": [
    {
     "data": {
      "text/plain": [
       "[<__main__.Adorno at 0x204b6465c50>,\n",
       " <__main__.Alimento at 0x204b6465c88>,\n",
       " <__main__.Libro at 0x204b6465cc0>]"
      ]
     },
     "execution_count": 9,
     "metadata": {},
     "output_type": "execute_result"
    }
   ],
   "source": [
    "productos = [ad,al,li]\n",
    "productos"
   ]
  },
  {
   "cell_type": "code",
   "execution_count": 10,
   "metadata": {},
   "outputs": [
    {
     "name": "stdout",
     "output_type": "stream",
     "text": [
      "        REFERENCIA\t2034\n",
      "        NOMBRE\t\tVaso\n",
      "        PVP\t\t15\n",
      "        DESCRIPCION\tVaso de porcelana\n",
      "         \n",
      "\n",
      "        REFERENCIA\t2035\n",
      "        NOMBRE\t\tBotella de aceite\n",
      "        PVP\t\t5\n",
      "        DESCRIPCION\t\t250 ML\n",
      "        PRODUCTOR\t\tProductor\n",
      "        DISTRIBUIDOR\tDistribuidor\n",
      "         \n",
      "\n",
      "        REFERENCIA\t2036\n",
      "        NOMBRE\t\tCocina mediterranea\n",
      "        PVP\t\t9\n",
      "        DESCRIPCION\t\tRecetas\n",
      "        ISBN\t\tisbn\n",
      "        AUTOR\tautor\n",
      "         \n",
      "\n"
     ]
    }
   ],
   "source": [
    "for p in productos:\n",
    "    print(p,'\\n')"
   ]
  },
  {
   "cell_type": "code",
   "execution_count": 11,
   "metadata": {},
   "outputs": [
    {
     "name": "stdout",
     "output_type": "stream",
     "text": [
      "2034 Vaso \n",
      "\n",
      "2035 Botella de aceite \n",
      "\n",
      "2036 Cocina mediterranea \n",
      "\n"
     ]
    }
   ],
   "source": [
    "for p in productos:\n",
    "    print(p.referencia,p.nombre,'\\n')"
   ]
  },
  {
   "cell_type": "code",
   "execution_count": 12,
   "metadata": {},
   "outputs": [
    {
     "ename": "AttributeError",
     "evalue": "'Adorno' object has no attribute 'productor'",
     "output_type": "error",
     "traceback": [
      "\u001b[1;31m---------------------------------------------------------------------------\u001b[0m",
      "\u001b[1;31mAttributeError\u001b[0m                            Traceback (most recent call last)",
      "\u001b[1;32m<ipython-input-12-8196fd4ccfb8>\u001b[0m in \u001b[0;36m<module>\u001b[1;34m\u001b[0m\n\u001b[0;32m      2\u001b[0m \u001b[1;33m\u001b[0m\u001b[0m\n\u001b[0;32m      3\u001b[0m \u001b[1;32mfor\u001b[0m \u001b[0mp\u001b[0m \u001b[1;32min\u001b[0m \u001b[0mproductos\u001b[0m\u001b[1;33m:\u001b[0m\u001b[1;33m\u001b[0m\u001b[1;33m\u001b[0m\u001b[0m\n\u001b[1;32m----> 4\u001b[1;33m     \u001b[0mprint\u001b[0m\u001b[1;33m(\u001b[0m\u001b[0mp\u001b[0m\u001b[1;33m.\u001b[0m\u001b[0mproductor\u001b[0m\u001b[1;33m,\u001b[0m\u001b[1;34m'\\n'\u001b[0m\u001b[1;33m)\u001b[0m\u001b[1;31m#Silamente en Alimento\u001b[0m\u001b[1;33m\u001b[0m\u001b[1;33m\u001b[0m\u001b[0m\n\u001b[0m",
      "\u001b[1;31mAttributeError\u001b[0m: 'Adorno' object has no attribute 'productor'"
     ]
    }
   ],
   "source": [
    "# Si queremos acceder a los atributos por clase, ya sean que son herencia, existen algunos que no tienen los mismos atributos\n",
    "\n",
    "for p in productos:\n",
    "    print(p.productor,'\\n')#Silamente en Alimento"
   ]
  },
  {
   "cell_type": "code",
   "execution_count": 14,
   "metadata": {},
   "outputs": [
    {
     "name": "stdout",
     "output_type": "stream",
     "text": [
      "2034\n",
      "Productor Distribuidor \n",
      "\n",
      "isbn autor \n",
      "\n"
     ]
    }
   ],
   "source": [
    "for p in productos:\n",
    "    if(isinstance(p,Alimento)):\n",
    "        print(p.productor,p.distribuidor,'\\n')\n",
    "    elif(isinstance(p,Libro)):\n",
    "        print(p.isbn,p.autor,'\\n')\n",
    "    else:\n",
    "        print(p.referencia)"
   ]
  },
  {
   "cell_type": "code",
   "execution_count": 16,
   "metadata": {},
   "outputs": [
    {
     "name": "stdout",
     "output_type": "stream",
     "text": [
      "        REFERENCIA\t2034\n",
      "        NOMBRE\t\tVaso\n",
      "        PVP\t\t15\n",
      "        DESCRIPCION\tVaso de porcelana\n",
      "        \n",
      "        REFERENCIA\t2034\n",
      "        NOMBRE\t\tVaso\n",
      "        PVP\t\t13.5\n",
      "        DESCRIPCION\tVaso de porcelana\n",
      "        \n"
     ]
    }
   ],
   "source": [
    "def rebajar_precio(p,rebaja):\n",
    "    p.pvp = p.pvp - (p.pvp/100*rebaja)\n",
    " \n",
    "\n",
    "print(ad)\n",
    "rebajar_precio(ad,10)\n",
    "print(ad)\n",
    "\n"
   ]
  },
  {
   "cell_type": "code",
   "execution_count": 20,
   "metadata": {},
   "outputs": [
    {
     "name": "stdout",
     "output_type": "stream",
     "text": [
      "[1, 2, 3, 4]\n"
     ]
    }
   ],
   "source": [
    "#nota importante, si intentamos hacer lo siguiente\n",
    "l = [1,2,3]\n",
    "l2 = l\n",
    "l2.append(4)\n",
    "print(l)\n",
    "\n",
    "#Supuestamente solo el l2 deberia verse afectado, no el l original"
   ]
  },
  {
   "cell_type": "code",
   "execution_count": 21,
   "metadata": {},
   "outputs": [
    {
     "name": "stdout",
     "output_type": "stream",
     "text": [
      "[1, 2, 3, 4]\n",
      "[1, 2, 3, 4]\n"
     ]
    }
   ],
   "source": [
    "# Pero podemos hacer esto para crear copias distintas a l aotra\n",
    "import copy\n",
    "\n",
    "l2 = copy.copy(l)\n",
    "print(l)\n",
    "print(l2)"
   ]
  },
  {
   "cell_type": "code",
   "execution_count": 22,
   "metadata": {},
   "outputs": [
    {
     "name": "stdout",
     "output_type": "stream",
     "text": [
      "[1, 2, 3, 4]\n",
      "[1, 2, 3, 4, 5]\n"
     ]
    }
   ],
   "source": [
    "l2.append(5)\n",
    "print(l)\n",
    "print(l2)"
   ]
  },
  {
   "cell_type": "code",
   "execution_count": null,
   "metadata": {},
   "outputs": [],
   "source": []
  }
 ],
 "metadata": {
  "kernelspec": {
   "display_name": "Python 3",
   "language": "python",
   "name": "python3"
  },
  "language_info": {
   "codemirror_mode": {
    "name": "ipython",
    "version": 3
   },
   "file_extension": ".py",
   "mimetype": "text/x-python",
   "name": "python",
   "nbconvert_exporter": "python",
   "pygments_lexer": "ipython3",
   "version": "3.7.3"
  }
 },
 "nbformat": 4,
 "nbformat_minor": 2
}
