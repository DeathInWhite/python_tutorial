{
 "cells": [
  {
   "cell_type": "code",
   "execution_count": 4,
   "metadata": {},
   "outputs": [
    {
     "name": "stdout",
     "output_type": "stream",
     "text": [
      "        REFERENCIA\t2034\n",
      "        NOMBRE\t\tVaso adornado\n",
      "        PVP\t\t15\n",
      "        DESCRIPCION\tVaso de porcelana adornado con arboles\n",
      "        \n"
     ]
    }
   ],
   "source": [
    "# Este seria la clase padre\n",
    "class Producto:\n",
    "    def __init__(self,referencia,nombre,pvp,descripcion):\n",
    "        self.referencia = referencia\n",
    "        self.nombre = nombre\n",
    "        self.pvp = pvp        \n",
    "        self.descripcion = descripcion\n",
    "\n",
    "        \n",
    "    def __str__(self):\n",
    "        return \"\"\"\\\n",
    "        REFERENCIA\\t{}\n",
    "        NOMBRE\\t\\t{}\n",
    "        PVP\\t\\t{}\n",
    "        DESCRIPCION\\t{}\n",
    "        \"\"\".format(self.referencia,self.nombre,self.pvp,self.descripcion)\n",
    "\n",
    "# Ahora crearemos un hijo heredando los atributos del padre\n",
    "class Adorno(Producto):\n",
    "    pass\n",
    "\n",
    "a = Adorno(2034,'Vaso adornado',15,'Vaso de porcelana adornado con arboles')\n",
    "print(a)\n"
   ]
  },
  {
   "cell_type": "code",
   "execution_count": 8,
   "metadata": {},
   "outputs": [
    {
     "name": "stdout",
     "output_type": "stream",
     "text": [
      "        REFERENCIA\t2035\n",
      "        NOMBRE\t\tbotella de aceite\n",
      "        PVP\t\t5\n",
      "        DESCRIPCION\t250 ML\n",
      "        PRODUCTOR\tLa Aceitera\n",
      "        DISTRIBUIDOR\tUn Distribuidor\n",
      "        \n"
     ]
    }
   ],
   "source": [
    "# Ahora añadimos otro mas que tiene distintos atributos o mas que la clase Producto\n",
    "\n",
    "class Alimento(Producto):\n",
    "    productor = \"\"\n",
    "    distribuidor = \"\"\n",
    "    \n",
    "    def __str__(self):\n",
    "        return \"\"\"\\\n",
    "        REFERENCIA\\t{}\n",
    "        NOMBRE\\t\\t{}\n",
    "        PVP\\t\\t{}\n",
    "        DESCRIPCION\\t{}\n",
    "        PRODUCTOR\\t{}\n",
    "        DISTRIBUIDOR\\t{}\n",
    "        \"\"\".format(self.referencia,self.nombre,self.pvp,self.descripcion,self.productor,self.distribuidor)\n",
    "    \n",
    "al = Alimento(2035,\"botella de aceite\",5,\"250 ML\")\n",
    "al.productor = \"La Aceitera\"\n",
    "al.distribuidor = \"Un Distribuidor\"\n",
    "\n",
    "print(al)"
   ]
  },
  {
   "cell_type": "code",
   "execution_count": null,
   "metadata": {},
   "outputs": [],
   "source": []
  }
 ],
 "metadata": {
  "kernelspec": {
   "display_name": "Python 3",
   "language": "python",
   "name": "python3"
  },
  "language_info": {
   "codemirror_mode": {
    "name": "ipython",
    "version": 3
   },
   "file_extension": ".py",
   "mimetype": "text/x-python",
   "name": "python",
   "nbconvert_exporter": "python",
   "pygments_lexer": "ipython3",
   "version": "3.7.3"
  }
 },
 "nbformat": 4,
 "nbformat_minor": 2
}
