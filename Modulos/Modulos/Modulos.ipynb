{
 "cells": [
  {
   "cell_type": "code",
   "execution_count": 2,
   "metadata": {},
   "outputs": [],
   "source": [
    "# Nota: Para ver los metodos o clases usadas en esta parte ver el arhivo saludos.py"
   ]
  },
  {
   "cell_type": "markdown",
   "metadata": {},
   "source": [
    "# Importando todo desde el archivo saludos.py"
   ]
  },
  {
   "cell_type": "code",
   "execution_count": 5,
   "metadata": {},
   "outputs": [
    {
     "name": "stdout",
     "output_type": "stream",
     "text": [
      "Este es un saludo desde el modulo saludos.py y su funcion saludo\n"
     ]
    }
   ],
   "source": [
    "import saludos\n",
    "\n",
    "saludos.saludo()"
   ]
  },
  {
   "cell_type": "markdown",
   "metadata": {},
   "source": [
    "# Importando el metodo en especifico desde el archivo o modulo"
   ]
  },
  {
   "cell_type": "code",
   "execution_count": 6,
   "metadata": {},
   "outputs": [
    {
     "name": "stdout",
     "output_type": "stream",
     "text": [
      "Este es un saludo desde el modulo saludos.py y su funcion saludo\n"
     ]
    }
   ],
   "source": [
    "from saludos import saludo\n",
    "\n",
    "saludo()"
   ]
  },
  {
   "cell_type": "markdown",
   "metadata": {},
   "source": [
    "# Importando todo desde el archivo referenciado"
   ]
  },
  {
   "cell_type": "code",
   "execution_count": 13,
   "metadata": {},
   "outputs": [
    {
     "name": "stdout",
     "output_type": "stream",
     "text": [
      "Este es un saludo desde el modulo saludos.py y su funcion saludo\n"
     ]
    }
   ],
   "source": [
    "from saludos import *\n",
    "\n",
    "saludo()"
   ]
  },
  {
   "cell_type": "markdown",
   "metadata": {},
   "source": [
    "# Tambien podemos crear una clase a partir del otro archivo"
   ]
  },
  {
   "cell_type": "code",
   "execution_count": 14,
   "metadata": {},
   "outputs": [
    {
     "name": "stdout",
     "output_type": "stream",
     "text": [
      "Hola desde la clase Saludo y el metodo __init__\n"
     ]
    }
   ],
   "source": [
    "import saludos\n",
    "\n",
    "s = saludos.Saludo()"
   ]
  },
  {
   "cell_type": "code",
   "execution_count": 15,
   "metadata": {},
   "outputs": [
    {
     "name": "stdout",
     "output_type": "stream",
     "text": [
      "Hola desde la clase Saludo y el metodo __init__\n"
     ]
    }
   ],
   "source": [
    "from saludos import saludo\n",
    "from saludos import *\n",
    "\n",
    "s = Saludo()"
   ]
  },
  {
   "cell_type": "markdown",
   "metadata": {},
   "source": [
    "# En caso de no encontrar el Path de del archivo que estamos usando podemos probrar esto"
   ]
  },
  {
   "cell_type": "code",
   "execution_count": 1,
   "metadata": {},
   "outputs": [
    {
     "name": "stdout",
     "output_type": "stream",
     "text": [
      "['C:\\\\Users\\\\cliff\\\\Desktop\\\\work\\\\python_tutorial\\\\Modulos', 'C:\\\\Users\\\\cliff\\\\Anaconda3\\\\python37.zip', 'C:\\\\Users\\\\cliff\\\\Anaconda3\\\\DLLs', 'C:\\\\Users\\\\cliff\\\\Anaconda3\\\\lib', 'C:\\\\Users\\\\cliff\\\\Anaconda3', '', 'C:\\\\Users\\\\cliff\\\\Anaconda3\\\\lib\\\\site-packages', 'C:\\\\Users\\\\cliff\\\\Anaconda3\\\\lib\\\\site-packages\\\\win32', 'C:\\\\Users\\\\cliff\\\\Anaconda3\\\\lib\\\\site-packages\\\\win32\\\\lib', 'C:\\\\Users\\\\cliff\\\\Anaconda3\\\\lib\\\\site-packages\\\\Pythonwin', 'C:\\\\Users\\\\cliff\\\\Anaconda3\\\\lib\\\\site-packages\\\\IPython\\\\extensions', 'C:\\\\Users\\\\cliff\\\\.ipython']\n"
     ]
    }
   ],
   "source": [
    "import sys\n",
    "\n",
    "print(sys.path)"
   ]
  },
  {
   "cell_type": "code",
   "execution_count": null,
   "metadata": {},
   "outputs": [],
   "source": []
  }
 ],
 "metadata": {
  "kernelspec": {
   "display_name": "Python 3",
   "language": "python",
   "name": "python3"
  },
  "language_info": {
   "codemirror_mode": {
    "name": "ipython",
    "version": 3
   },
   "file_extension": ".py",
   "mimetype": "text/x-python",
   "name": "python",
   "nbconvert_exporter": "python",
   "pygments_lexer": "ipython3",
   "version": "3.7.4"
  }
 },
 "nbformat": 4,
 "nbformat_minor": 2
}
