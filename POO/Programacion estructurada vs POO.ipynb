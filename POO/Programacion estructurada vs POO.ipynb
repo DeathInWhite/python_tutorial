{
 "cells": [
  {
   "cell_type": "markdown",
   "metadata": {},
   "source": [
    "# Programacion estructurada"
   ]
  },
  {
   "cell_type": "code",
   "execution_count": 1,
   "metadata": {},
   "outputs": [],
   "source": [
    "clientes = [\n",
    "    {'nombre':'Cristobal','apellido':'Salinas','rut':'11111A'},\n",
    "    {'nombre':'Kelly','apellido':'Sierralta','rut':'22222A'},\n",
    "]"
   ]
  },
  {
   "cell_type": "code",
   "execution_count": 2,
   "metadata": {},
   "outputs": [
    {
     "data": {
      "text/plain": [
       "[{'nombre': 'Cristobal', 'apellido': 'Salinas', 'rut': '11111A'},\n",
       " {'nombre': 'Kelly', 'apellido': 'Sierralta', 'rut': '22222A'}]"
      ]
     },
     "execution_count": 2,
     "metadata": {},
     "output_type": "execute_result"
    }
   ],
   "source": [
    "clientes"
   ]
  },
  {
   "cell_type": "code",
   "execution_count": 5,
   "metadata": {},
   "outputs": [],
   "source": [
    "def mostrar_cliente(clientes,rut):\n",
    "    for c in clientes:\n",
    "        if (rut == c['rut']):\n",
    "            print(\"{} {}\".format(c['nombre'],c['apellido']))\n",
    "            return\n",
    "        \n",
    "    print(\"cliente no encontrando\")\n",
    "            "
   ]
  },
  {
   "cell_type": "code",
   "execution_count": 8,
   "metadata": {},
   "outputs": [
    {
     "name": "stdout",
     "output_type": "stream",
     "text": [
      "Cristobal Salinas\n",
      "Kelly Sierralta\n",
      "cliente no encontrando\n"
     ]
    }
   ],
   "source": [
    "mostrar_cliente(clientes,'11111A')\n",
    "mostrar_cliente(clientes,'22222A')\n",
    "mostrar_cliente(clientes,'11121A')"
   ]
  },
  {
   "cell_type": "code",
   "execution_count": 12,
   "metadata": {},
   "outputs": [],
   "source": [
    "def borrar_cliente(clientes,rut):\n",
    "    for i,c in enumerate(clientes):\n",
    "        if(rut == c['rut']):\n",
    "            del(clientes[i])\n",
    "            print(str(c),\"> Eliminado\")\n",
    "            return\n",
    "        \n",
    "    print(\"Cliente no encontrado\")"
   ]
  },
  {
   "cell_type": "code",
   "execution_count": 13,
   "metadata": {},
   "outputs": [
    {
     "name": "stdout",
     "output_type": "stream",
     "text": [
      "{'nombre': 'Cristobal', 'apellido': 'Salinas', 'rut': '11111A'} > Eliminado\n"
     ]
    }
   ],
   "source": [
    "borrar_cliente(clientes,'11111A')"
   ]
  },
  {
   "cell_type": "code",
   "execution_count": 14,
   "metadata": {
    "scrolled": true
   },
   "outputs": [
    {
     "data": {
      "text/plain": [
       "[{'nombre': 'Kelly', 'apellido': 'Sierralta', 'rut': '22222A'}]"
      ]
     },
     "execution_count": 14,
     "metadata": {},
     "output_type": "execute_result"
    }
   ],
   "source": [
    "clientes"
   ]
  },
  {
   "cell_type": "markdown",
   "metadata": {},
   "source": [
    "# POO"
   ]
  },
  {
   "cell_type": "code",
   "execution_count": 16,
   "metadata": {},
   "outputs": [],
   "source": [
    "class Cliente:\n",
    "    def __init__(self,dni,nombre,apellido):\n",
    "        self.dni = dni\n",
    "        self.nombre = nombre\n",
    "        self.apellido = apellido\n",
    "        \n",
    "    def __str__(self):\n",
    "        return '{} {}'.format(self.nombre,self.apellido)\n",
    "    \n",
    "class Empresa:\n",
    "    def __init__(self,clientes=[]):\n",
    "        self.clientes=clientes\n",
    "        \n",
    "    def mostrar_cliente(self,dni=None):\n",
    "        for c in self.clientes:\n",
    "            if c.dni == dni:\n",
    "                print(c)\n",
    "                return\n",
    "        print(\"cliente no encontrado\")\n",
    "        \n",
    "    def borrar_cliente(self,dni=None):\n",
    "        for i,c in enumerate(self.clientes):\n",
    "            if c.dni == dni:\n",
    "                del(self.clientes[i])\n",
    "                print(str(c),\"> eliminado\")\n",
    "                return\n",
    "        print(\"cliente no encontrado\")\n",
    "        "
   ]
  },
  {
   "cell_type": "code",
   "execution_count": 28,
   "metadata": {},
   "outputs": [],
   "source": [
    "cliente1 = Cliente('11111A','Cristobal','Salinas')\n",
    "#tambien se puede crear asi\n",
    "cliente2 = Cliente(nombre=\"Kelly\",apellido=\"Sierralta\",dni=\"22222B\")"
   ]
  },
  {
   "cell_type": "code",
   "execution_count": 29,
   "metadata": {},
   "outputs": [
    {
     "name": "stdout",
     "output_type": "stream",
     "text": [
      "Cristobal Salinas 11111A\n",
      "Kelly Sierralta 22222B\n"
     ]
    }
   ],
   "source": [
    "print(\"{} {} {}\".format(cliente1.nombre,cliente1.apellido,cliente1.dni))\n",
    "print(\"{} {} {}\".format(cliente2.nombre,cliente2.apellido,cliente2.dni))"
   ]
  },
  {
   "cell_type": "code",
   "execution_count": 31,
   "metadata": {},
   "outputs": [],
   "source": [
    "empresa = Empresa([cliente1,cliente2])"
   ]
  },
  {
   "cell_type": "code",
   "execution_count": 36,
   "metadata": {},
   "outputs": [
    {
     "data": {
      "text/plain": [
       "[<__main__.Cliente at 0x29ff9b8b0b8>, <__main__.Cliente at 0x29ff9b8b438>]"
      ]
     },
     "execution_count": 36,
     "metadata": {},
     "output_type": "execute_result"
    }
   ],
   "source": [
    "empresa.clientes"
   ]
  },
  {
   "cell_type": "code",
   "execution_count": 37,
   "metadata": {},
   "outputs": [
    {
     "name": "stdout",
     "output_type": "stream",
     "text": [
      "Cristobal Salinas\n",
      "Kelly Sierralta\n"
     ]
    }
   ],
   "source": [
    "empresa.mostrar_cliente('11111A')\n",
    "empresa.mostrar_cliente('22222B')"
   ]
  },
  {
   "cell_type": "code",
   "execution_count": 38,
   "metadata": {},
   "outputs": [
    {
     "name": "stdout",
     "output_type": "stream",
     "text": [
      "Kelly Sierralta > eliminado\n"
     ]
    }
   ],
   "source": [
    "empresa.borrar_cliente('22222B')"
   ]
  },
  {
   "cell_type": "code",
   "execution_count": 39,
   "metadata": {},
   "outputs": [
    {
     "data": {
      "text/plain": [
       "[<__main__.Cliente at 0x29ff9b8b0b8>]"
      ]
     },
     "execution_count": 39,
     "metadata": {},
     "output_type": "execute_result"
    }
   ],
   "source": [
    "empresa.clientes"
   ]
  }
 ],
 "metadata": {
  "kernelspec": {
   "display_name": "Python 3",
   "language": "python",
   "name": "python3"
  },
  "language_info": {
   "codemirror_mode": {
    "name": "ipython",
    "version": 3
   },
   "file_extension": ".py",
   "mimetype": "text/x-python",
   "name": "python",
   "nbconvert_exporter": "python",
   "pygments_lexer": "ipython3",
   "version": "3.7.3"
  }
 },
 "nbformat": 4,
 "nbformat_minor": 2
}
