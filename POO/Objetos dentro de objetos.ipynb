{
 "cells": [
  {
   "cell_type": "code",
   "execution_count": 2,
   "metadata": {},
   "outputs": [],
   "source": [
    "class Pelicula:\n",
    "    \n",
    "    def __init__(self, titulo,duracion,lanzamiento):\n",
    "        self.titulo =  titulo\n",
    "        self.duracion = duracion\n",
    "        self.lanzamiento = lanzamiento\n",
    "        print(\"Se a creado la peliculza\",self.titulo)\n",
    "        \n",
    "    def __str__(self):\n",
    "        return '{} ({})'.format(self.titulo,self.lanzamiento)"
   ]
  },
  {
   "cell_type": "code",
   "execution_count": 3,
   "metadata": {},
   "outputs": [],
   "source": [
    "class Catalogo:\n",
    "    peliculas = []\n",
    "    \n",
    "    def __init__(self,peliculas=[]):\n",
    "        self.peliculas=peliculas\n",
    "    \n",
    "    def agregar(self,pelicula):\n",
    "        self.peliculas.append(pelicula)\n",
    "        \n",
    "    def mostrar(self):\n",
    "        for p in self.peliculas:\n",
    "            print(p)"
   ]
  },
  {
   "cell_type": "code",
   "execution_count": 4,
   "metadata": {},
   "outputs": [
    {
     "name": "stdout",
     "output_type": "stream",
     "text": [
      "Se a creado la peliculza El Padrino\n",
      "El Padrino (1972)\n"
     ]
    }
   ],
   "source": [
    "# creamos objetos de las 2 clases\n",
    "\n",
    "p = Pelicula(\"El Padrino\",175,1972)\n",
    "c = Catalogo([p])\n",
    "\n",
    "c.mostrar()"
   ]
  },
  {
   "cell_type": "code",
   "execution_count": 5,
   "metadata": {},
   "outputs": [
    {
     "name": "stdout",
     "output_type": "stream",
     "text": [
      "Se a creado la peliculza El Padrino: parte 2\n",
      "El Padrino (1972)\n",
      "El Padrino: parte 2 (1974)\n"
     ]
    }
   ],
   "source": [
    "c.agregar(Pelicula('El Padrino: parte 2',202,1974))\n",
    "c.mostrar()"
   ]
  },
  {
   "cell_type": "code",
   "execution_count": null,
   "metadata": {},
   "outputs": [],
   "source": []
  }
 ],
 "metadata": {
  "kernelspec": {
   "display_name": "Python 3",
   "language": "python",
   "name": "python3"
  },
  "language_info": {
   "codemirror_mode": {
    "name": "ipython",
    "version": 3
   },
   "file_extension": ".py",
   "mimetype": "text/x-python",
   "name": "python",
   "nbconvert_exporter": "python",
   "pygments_lexer": "ipython3",
   "version": "3.7.3"
  }
 },
 "nbformat": 4,
 "nbformat_minor": 2
}
