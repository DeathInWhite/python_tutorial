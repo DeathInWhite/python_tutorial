{
 "cells": [
  {
   "cell_type": "code",
   "execution_count": 2,
   "metadata": {},
   "outputs": [
    {
     "name": "stdout",
     "output_type": "stream",
     "text": [
      "Salado Azul\n"
     ]
    }
   ],
   "source": [
    "class Galleta:\n",
    "    pass\n",
    "\n",
    "g = Galleta()\n",
    "\n",
    "g.sabor = \"Salado\"\n",
    "g.color = \"Azul\"\n",
    "\n",
    "print(g.sabor,g.color)"
   ]
  },
  {
   "cell_type": "code",
   "execution_count": 4,
   "metadata": {},
   "outputs": [
    {
     "name": "stdout",
     "output_type": "stream",
     "text": [
      "False\n",
      "True\n"
     ]
    }
   ],
   "source": [
    "class Galleta:\n",
    "    chocolate = False\n",
    "    \n",
    "g = Galleta()\n",
    "print(g.chocolate)\n",
    "g.chocolate = True\n",
    "print(g.chocolate)\n"
   ]
  },
  {
   "cell_type": "markdown",
   "metadata": {},
   "source": [
    "# Metodo init, se ejecuta cuando se crea el objeto, es un metodo especial por eso el __ __, en cambio la palabra \"self\", se llama a si mismo, es lo mismo que el this"
   ]
  },
  {
   "cell_type": "code",
   "execution_count": 5,
   "metadata": {},
   "outputs": [
    {
     "name": "stdout",
     "output_type": "stream",
     "text": [
      "Se a creado un objeto de galleta\n"
     ]
    }
   ],
   "source": [
    "class Galleta:\n",
    "    chocolate = False\n",
    "    def __init__(self):\n",
    "        print(\"Se a creado un objeto de galleta\")\n",
    "        \n",
    "g = Galleta()"
   ]
  },
  {
   "cell_type": "code",
   "execution_count": 15,
   "metadata": {},
   "outputs": [
    {
     "name": "stdout",
     "output_type": "stream",
     "text": [
      "Se a creado un objeto de galleta\n",
      "False\n",
      "True\n",
      "esta galleta tiene chocolate\n"
     ]
    }
   ],
   "source": [
    "class Galleta:\n",
    "    chocolate = False\n",
    "    \n",
    "    def __init__(self):\n",
    "        print(\"Se a creado un objeto de galleta\")\n",
    "        \n",
    "    def add_chocolate(self):\n",
    "        self.chocolate = True\n",
    "        \n",
    "    def tiene_chocolate(self):\n",
    "        if(self.chocolate):\n",
    "            print(\"esta galleta tiene chocolate\")\n",
    "        else:\n",
    "            print(\"no la tiene\")\n",
    "        \n",
    "g = Galleta()\n",
    "\n",
    "print(g.chocolate)\n",
    "g.add_chocolate()\n",
    "print(g.chocolate)\n",
    "\n",
    "g.tiene_chocolate()"
   ]
  },
  {
   "cell_type": "code",
   "execution_count": 19,
   "metadata": {},
   "outputs": [
    {
     "name": "stdout",
     "output_type": "stream",
     "text": [
      "Se a creado un objeto de galleta merengue rojo\n",
      "merengue\n",
      "rojo\n"
     ]
    }
   ],
   "source": [
    "class Galleta:\n",
    "    chocolate = False\n",
    "    \n",
    "    def __init__(self,sabor,color):#podriamos dejar estos parametros en (self,sabor=None,color=None)\n",
    "        self.sabor = sabor\n",
    "        self.color = color\n",
    "        print(\"Se a creado un objeto de galleta {} {}\".format(sabor,color))\n",
    "        \n",
    "\n",
    "g = Galleta(\"merengue\",'rojo')\n",
    "print(g.sabor)\n",
    "print(g.color)"
   ]
  },
  {
   "cell_type": "code",
   "execution_count": null,
   "metadata": {},
   "outputs": [],
   "source": []
  }
 ],
 "metadata": {
  "kernelspec": {
   "display_name": "Python 3",
   "language": "python",
   "name": "python3"
  },
  "language_info": {
   "codemirror_mode": {
    "name": "ipython",
    "version": 3
   },
   "file_extension": ".py",
   "mimetype": "text/x-python",
   "name": "python",
   "nbconvert_exporter": "python",
   "pygments_lexer": "ipython3",
   "version": "3.7.3"
  }
 },
 "nbformat": 4,
 "nbformat_minor": 2
}
