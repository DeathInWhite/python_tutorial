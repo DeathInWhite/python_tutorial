{
 "cells": [
  {
   "cell_type": "markdown",
   "metadata": {},
   "source": [
    "# Existen distintos metodos especiales como por ejemplo"
   ]
  },
  {
   "cell_type": "code",
   "execution_count": 11,
   "metadata": {},
   "outputs": [
    {
     "name": "stdout",
     "output_type": "stream",
     "text": [
      "se a creado la clase prueba\n",
      "Se a destruido la clase prueba\n",
      "Se a destruido la clase prueba\n",
      "se a creado la clase prueba\n",
      "Aca se puede hacer referencia a los atributos cuando se trata de hacer un print\n",
      "90\n"
     ]
    }
   ],
   "source": [
    "class Prueba:\n",
    "    duracion = 90 #es solo para poner un atributo, nada nuevo\n",
    "    \n",
    "    # Constructor\n",
    "    def __init__(self):\n",
    "        print(\"se a creado la clase prueba\")\n",
    "        \n",
    "    #Destructor\n",
    "    def __del__(self):\n",
    "        print(\"Se a destruido la clase prueba\")\n",
    "    \n",
    "    #Redefinir\n",
    "    def __str__(self):\n",
    "        return \"Aca se puede hacer referencia a los atributos cuando se trata de hacer un print\"\n",
    "    \n",
    "    #Redefinimos el largo del metodo\n",
    "    def __len__(self):\n",
    "        return self.duracion\n",
    "        \n",
    "p = Prueba()\n",
    "del(p)# este se ejecuta 2 veces debido a que el codigo termina\n",
    "\n",
    "p = Prueba()\n",
    "print(p)\n",
    "print(len(p))"
   ]
  },
  {
   "cell_type": "code",
   "execution_count": null,
   "metadata": {},
   "outputs": [],
   "source": []
  }
 ],
 "metadata": {
  "kernelspec": {
   "display_name": "Python 3",
   "language": "python",
   "name": "python3"
  },
  "language_info": {
   "codemirror_mode": {
    "name": "ipython",
    "version": 3
   },
   "file_extension": ".py",
   "mimetype": "text/x-python",
   "name": "python",
   "nbconvert_exporter": "python",
   "pygments_lexer": "ipython3",
   "version": "3.7.3"
  }
 },
 "nbformat": 4,
 "nbformat_minor": 2
}
