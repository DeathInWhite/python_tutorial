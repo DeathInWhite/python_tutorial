{
 "cells": [
  {
   "cell_type": "markdown",
   "metadata": {},
   "source": [
    "# Entradas"
   ]
  },
  {
   "cell_type": "code",
   "execution_count": 5,
   "metadata": {},
   "outputs": [
    {
     "name": "stdout",
     "output_type": "stream",
     "text": [
      "intruduce valor: 5665656\n",
      "5665656\n"
     ]
    }
   ],
   "source": [
    "valorPorTeclado = input(\"intruduce valor: \")\n",
    "print(valorPorTeclado)"
   ]
  },
  {
   "cell_type": "code",
   "execution_count": 3,
   "metadata": {},
   "outputs": [
    {
     "name": "stdout",
     "output_type": "stream",
     "text": [
      "Ingrese numero flotante: 2.5\n",
      "2.5\n"
     ]
    }
   ],
   "source": [
    "# Leer lo que escribe el usuario por teclado pero que sea un decimal\n",
    "\n",
    "flotante = float(input(\"Ingrese numero flotante: \"))\n",
    "print(flotante)"
   ]
  }
 ],
 "metadata": {
  "kernelspec": {
   "display_name": "Python 3",
   "language": "python",
   "name": "python3"
  },
  "language_info": {
   "codemirror_mode": {
    "name": "ipython",
    "version": 3
   },
   "file_extension": ".py",
   "mimetype": "text/x-python",
   "name": "python",
   "nbconvert_exporter": "python",
   "pygments_lexer": "ipython3",
   "version": "3.7.3"
  }
 },
 "nbformat": 4,
 "nbformat_minor": 2
}
