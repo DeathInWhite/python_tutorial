{
 "cells": [
  {
   "cell_type": "markdown",
   "metadata": {},
   "source": [
    "# Tenemos algo que queremos mostrar de esta manera"
   ]
  },
  {
   "cell_type": "code",
   "execution_count": 2,
   "metadata": {},
   "outputs": [
    {
     "name": "stdout",
     "output_type": "stream",
     "text": [
      "un texto otro texto y un numero 10\n"
     ]
    }
   ],
   "source": [
    "v = \"otro texto\"\n",
    "n = 10\n",
    "t = \"hola\"\n",
    "print(\"un texto\",v,\"y un numero\",n)"
   ]
  },
  {
   "cell_type": "markdown",
   "metadata": {},
   "source": [
    "# Podemos hacer un format"
   ]
  },
  {
   "cell_type": "code",
   "execution_count": 3,
   "metadata": {},
   "outputs": [
    {
     "data": {
      "text/plain": [
       "'un texto otro texto y un numero 10'"
      ]
     },
     "execution_count": 3,
     "metadata": {},
     "output_type": "execute_result"
    }
   ],
   "source": [
    "cadena = \"un texto {} y un numero {}\".format(v,n)\n",
    "cadena"
   ]
  },
  {
   "cell_type": "markdown",
   "metadata": {},
   "source": [
    "# Ponerle un orden"
   ]
  },
  {
   "cell_type": "code",
   "execution_count": 4,
   "metadata": {},
   "outputs": [
    {
     "data": {
      "text/plain": [
       "'un texto 10 y un numero otro texto y otro texto hola'"
      ]
     },
     "execution_count": 4,
     "metadata": {},
     "output_type": "execute_result"
    }
   ],
   "source": [
    "cadena = \"un texto {1} y un numero {0} y otro texto {2}\".format(v,n,t)\n",
    "cadena"
   ]
  },
  {
   "cell_type": "markdown",
   "metadata": {},
   "source": [
    "# Podemos referenciar variables entre las casillas"
   ]
  },
  {
   "cell_type": "code",
   "execution_count": 5,
   "metadata": {},
   "outputs": [
    {
     "data": {
      "text/plain": [
       "'un texto otro texto y un numero 10'"
      ]
     },
     "execution_count": 5,
     "metadata": {},
     "output_type": "execute_result"
    }
   ],
   "source": [
    "cadena = \"un texto {texto} y un numero {numero}\".format(texto=v,numero=n)\n",
    "cadena"
   ]
  },
  {
   "cell_type": "markdown",
   "metadata": {},
   "source": [
    "# Asi mismo podemos referenciar la misma una o otra vez"
   ]
  },
  {
   "cell_type": "code",
   "execution_count": 6,
   "metadata": {},
   "outputs": [
    {
     "data": {
      "text/plain": [
       "'variable variable variable variable'"
      ]
     },
     "execution_count": 6,
     "metadata": {},
     "output_type": "execute_result"
    }
   ],
   "source": [
    "variable=\"variable\"\n",
    "cadena = \"{v} {v} {v} {v}\".format(v=variable)\n",
    "cadena"
   ]
  },
  {
   "cell_type": "markdown",
   "metadata": {},
   "source": [
    "# Alineamiento de caracteres"
   ]
  },
  {
   "cell_type": "code",
   "execution_count": 11,
   "metadata": {},
   "outputs": [
    {
     "name": "stdout",
     "output_type": "stream",
     "text": [
      "                       palabra\n",
      "palabra                       \n",
      "           palabra            \n",
      "palab\n",
      "                           pal\n"
     ]
    }
   ],
   "source": [
    "print(\"{:>30}\".format(\"palabra\")) # hacia la derecha\n",
    "print(\"{:<30}\".format(\"palabra\")) # hacia la izquierda\n",
    "print(\"{:^30}\".format(\"palabra\")) # hacia el medio\n",
    "print(\"{:.5}\".format(\"palabra\")) # hacia el medio\n",
    "print(\"{:>30.3}\".format(\"palabra\")) # hacia la derecha"
   ]
  },
  {
   "cell_type": "markdown",
   "metadata": {},
   "source": [
    "# Formateo con numeros"
   ]
  },
  {
   "cell_type": "code",
   "execution_count": 26,
   "metadata": {},
   "outputs": [
    {
     "name": "stdout",
     "output_type": "stream",
     "text": [
      "  10\n",
      " 100\n",
      "1000\n",
      "\n",
      "0010\n",
      "0100\n",
      "1000\n",
      "\n",
      "3.14\n",
      "3.142\n",
      "3.1416\n",
      "3.14159\n",
      "3.1400\n"
     ]
    }
   ],
   "source": [
    "#saltandose con espacios\n",
    "print(\"{:4d}\".format(10))\n",
    "print(\"{:4d}\".format(100))\n",
    "print(\"{:4d}\".format(1000))\n",
    "\n",
    "print(\"\")\n",
    "\n",
    "#rellenados con ceros\n",
    "print(\"{:04d}\".format(10))\n",
    "print(\"{:04d}\".format(100))\n",
    "print(\"{:04d}\".format(1000))\n",
    "\n",
    "print(\"\")\n",
    "\n",
    "#espacios en numeros flotantes\n",
    "print(\"{:.2f}\".format(3.1415926))\n",
    "print(\"{:.3f}\".format(3.1415926))\n",
    "print(\"{:.4f}\".format(3.1415926))\n",
    "print(\"{:.5f}\".format(3.1415926))\n",
    "print(\"{:.4f}\".format(3.14))\n",
    "\n"
   ]
  },
  {
   "cell_type": "code",
   "execution_count": null,
   "metadata": {},
   "outputs": [],
   "source": []
  }
 ],
 "metadata": {
  "kernelspec": {
   "display_name": "Python 3",
   "language": "python",
   "name": "python3"
  },
  "language_info": {
   "codemirror_mode": {
    "name": "ipython",
    "version": 3
   },
   "file_extension": ".py",
   "mimetype": "text/x-python",
   "name": "python",
   "nbconvert_exporter": "python",
   "pygments_lexer": "ipython3",
   "version": "3.7.3"
  }
 },
 "nbformat": 4,
 "nbformat_minor": 2
}
